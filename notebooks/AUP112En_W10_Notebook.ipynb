{
  "nbformat": 4,
  "nbformat_minor": 0,
  "metadata": {
    "colab": {
      "provenance": []
    },
    "kernelspec": {
      "display_name": "Python 3",
      "language": "python",
      "name": "python3"
    },
    "language_info": {
      "codemirror_mode": {
        "name": "ipython",
        "version": 3
      },
      "file_extension": ".py",
      "mimetype": "text/x-python",
      "name": "python",
      "nbconvert_exporter": "python",
      "pygments_lexer": "ipython3",
      "version": "3.7.6"
    }
  },
  "cells": [
    {
      "cell_type": "markdown",
      "metadata": {
        "id": "Quj7HWO3VoYA"
      },
      "source": [
        "![image](https://www.python.org/static/img/python-logo.png)\n",
        "# AUP112-Fundamentals of Programming\n",
        "[![Open In Colab](https://colab.research.google.com/assets/colab-badge.svg)](https://colab.research.google.com/github/googlecolab/colabtools/blob/master/notebooks/colab-github-demo.ipynb)"
      ]
    },
    {
      "cell_type": "markdown",
      "metadata": {
        "id": "EUjJ7ImLnPVr"
      },
      "source": [
        "# Week10-Advanced Flow Control\n",
        "\n",
        "\n"
      ]
    },
    {
      "cell_type": "markdown",
      "metadata": {
        "id": "kLe1GoiTtrgI"
      },
      "source": [
        "## Topic 1-Review of Basic Flow Control"
      ]
    },
    {
      "cell_type": "code",
      "source": [],
      "metadata": {
        "id": "FbXSbp3M2UxJ"
      },
      "execution_count": null,
      "outputs": []
    },
    {
      "cell_type": "markdown",
      "metadata": {
        "id": "FZarHNOWTe_g"
      },
      "source": [
        "### Step 1: if-condition\n",
        "\n",
        "<img src=\"https://i.ibb.co/sv727Wq/if-condition.png\" alt=\"alt text\" width=\"400\">\n"
      ]
    },
    {
      "cell_type": "code",
      "metadata": {
        "id": "T3MCXHO5_QjD"
      },
      "source": [
        "bmi = 32\n",
        "if bmi>30.0:\n",
        "  print(\"Obesity\")"
      ],
      "execution_count": null,
      "outputs": []
    },
    {
      "cell_type": "code",
      "metadata": {
        "id": "JpCRue7n_1KB"
      },
      "source": [
        "bmi = 20\n",
        "if bmi>24.0:\n",
        "  print(\"Overweight\")\n",
        "else:\n",
        "  print(\"Healthy weight\")"
      ],
      "execution_count": null,
      "outputs": []
    },
    {
      "cell_type": "code",
      "metadata": {
        "id": "dUfurdKFADV0"
      },
      "source": [
        "bmi = 16\n",
        "if bmi>24.0:\n",
        "  print(\"Overweight\")\n",
        "elif bmi<18.5:\n",
        "  print(\"Underweight\")\n",
        "else:\n",
        "  print(\"Healthy weight\")"
      ],
      "execution_count": null,
      "outputs": []
    },
    {
      "cell_type": "markdown",
      "metadata": {
        "id": "NrtKVCwvTi4m"
      },
      "source": [
        "### Step 2: for-loop\n",
        "<img src=\"https://i.ibb.co/vmWzNrx/2021-11-07-184655.jpg\" alt=\"2021-11-07-184655\" border=\"0\">"
      ]
    },
    {
      "cell_type": "code",
      "metadata": {
        "id": "d9BJMcQnBCgp"
      },
      "source": [
        "for n in [1, 3, 5, 7]:\n",
        "  print(n)"
      ],
      "execution_count": null,
      "outputs": []
    },
    {
      "cell_type": "code",
      "metadata": {
        "id": "_X__MHNoBwoX"
      },
      "source": [
        "for n in range(1, 8, 2):\n",
        "  print(n)"
      ],
      "execution_count": null,
      "outputs": []
    },
    {
      "cell_type": "markdown",
      "metadata": {
        "id": "mmPmGJQLTr1F"
      },
      "source": [
        "### Step 3: while-loop"
      ]
    },
    {
      "cell_type": "code",
      "metadata": {
        "id": "qdyTIDh3CACy"
      },
      "source": [
        "n = 1\n",
        "while n < 8:\n",
        "  print(n)\n",
        "  n += 2"
      ],
      "execution_count": null,
      "outputs": []
    },
    {
      "cell_type": "markdown",
      "metadata": {
        "id": "3zBkfEMqT6rG"
      },
      "source": [
        "### Step 4: break"
      ]
    },
    {
      "cell_type": "code",
      "metadata": {
        "id": "MMM8WbD9CRIY"
      },
      "source": [
        "i = 1\n",
        "while i < 6:\n",
        "  print(i)\n",
        "  if i == 3:\n",
        "    break\n",
        "  i += 1"
      ],
      "execution_count": null,
      "outputs": []
    },
    {
      "cell_type": "markdown",
      "metadata": {
        "id": "DX6_oDd9CRnq"
      },
      "source": [
        "### Step 5: continue"
      ]
    },
    {
      "cell_type": "code",
      "metadata": {
        "id": "imgF51a7CZtE"
      },
      "source": [
        "i = 0\n",
        "while i < 6:\n",
        "  i += 1\n",
        "  if i == 3:\n",
        "    continue\n",
        "  print(i)"
      ],
      "execution_count": null,
      "outputs": []
    },
    {
      "cell_type": "markdown",
      "metadata": {
        "id": "7RVMfQ0OT_ww"
      },
      "source": [
        "### Step 6: 的pass\n"
      ]
    },
    {
      "cell_type": "code",
      "metadata": {
        "id": "oJ-yi3vzxlVt"
      },
      "source": [
        "while True:\n",
        "    pass"
      ],
      "execution_count": null,
      "outputs": []
    },
    {
      "cell_type": "code",
      "metadata": {
        "id": "m-_uu2rzx8jO"
      },
      "source": [
        "def foo(*args):\n",
        "    pass"
      ],
      "execution_count": null,
      "outputs": []
    },
    {
      "cell_type": "markdown",
      "metadata": {
        "id": "jm_cpk5vUL1g"
      },
      "source": [
        "## Topic 2-Errors and Exceptions\n",
        "https://docs.python.org/zh-tw/3/tutorial/errors.html\n",
        "\n",
        "```\n",
        "try:\n",
        "    # The code you want to execute\n",
        "    ...\n",
        "except (exception error type 1, exception error type 2, …) as exception object:\n",
        "    # Code to be executed when exception error type 1 or exception error type 2... occurs\n",
        "    ...\n",
        "except (exception error type 3, exception error type 4, …) as exception object:\n",
        "    # Code to be executed when exception error type 3 or exception error type 4... occurs\n",
        "    ...\n",
        "else:\n",
        "    # The program in the try instruction is executed successfully and no errors occur.\n",
        "    ...\n",
        "finally:\n",
        "    # Regardless of whether an error occurs or not, it will be executed eventually.\n",
        "    ...\n",
        "    ...\n",
        "```"
      ]
    },
    {
      "cell_type": "markdown",
      "metadata": {
        "id": "IxwbTkaVVsYu"
      },
      "source": [
        "### Step 7: exception"
      ]
    },
    {
      "cell_type": "code",
      "metadata": {
        "id": "9v2kP0WTyvwL"
      },
      "source": [
        "try:\n",
        "  print(x)\n",
        "except:\n",
        "  print(\"An exception occurred\")"
      ],
      "execution_count": null,
      "outputs": []
    },
    {
      "cell_type": "markdown",
      "metadata": {
        "id": "hzxDACRSy-Oo"
      },
      "source": [
        "### Step 8: Else"
      ]
    },
    {
      "cell_type": "code",
      "metadata": {
        "id": "xs4J2M_2zFVY"
      },
      "source": [
        "try:\n",
        "  print(\"Hello\")\n",
        "except:\n",
        "  print(\"Something went wrong\")\n",
        "else:\n",
        "  print(\"Nothing went wrong\")"
      ],
      "execution_count": null,
      "outputs": []
    },
    {
      "cell_type": "markdown",
      "metadata": {
        "id": "V09ZggwKWmuT"
      },
      "source": [
        "### Step 9: finally"
      ]
    },
    {
      "cell_type": "code",
      "metadata": {
        "id": "pgKMP1P5y9WF"
      },
      "source": [
        "try:\n",
        "  print(x)\n",
        "except:\n",
        "  print(\"Something went wrong\")\n",
        "finally:\n",
        "  print(\"The 'try except' is finished\")"
      ],
      "execution_count": null,
      "outputs": []
    },
    {
      "cell_type": "markdown",
      "metadata": {
        "id": "pXi6qnJIzOte"
      },
      "source": [
        "## Topic 3-match-case\n",
        " (New In Python 3.10) (PEP 634-PEP 636)"
      ]
    },
    {
      "cell_type": "markdown",
      "metadata": {
        "id": "Kn-bMWgfUR4E"
      },
      "source": [
        "### Step 10: match-case\n",
        "\n",
        "```\n",
        "match command.split():\n",
        "    case [\"quit\"]:\n",
        "        print(\"Goodbye!\")\n",
        "        quit_game()\n",
        "    case [\"look\"]:\n",
        "        current_room.describe()\n",
        "    case [\"get\", obj]:\n",
        "        character.get(obj, current_room)\n",
        "    case [\"go\", direction]:\n",
        "        current_room = current_room.neighbor(direction)\n",
        "    # The rest of your commands go here\n",
        "```"
      ]
    },
    {
      "cell_type": "markdown",
      "metadata": {
        "id": "C-iFzAh8zztP"
      },
      "source": [
        "### Step 11: match-case"
      ]
    },
    {
      "cell_type": "markdown",
      "metadata": {
        "id": "8YZRZbJvToeB"
      },
      "source": [
        "```\n",
        "for thing in [1,2,3,4]:\n",
        "    match thing:\n",
        "        case 1:\n",
        "            print(\"thing is 1\")\n",
        "        case 2:\n",
        "            print(\"thing is 2\")\n",
        "        case 3:\n",
        "            print(\"thing is 3\")\n",
        "        case _:\n",
        "            print(\"thing is not 1, 2 or 3\")\n",
        "```"
      ]
    },
    {
      "cell_type": "code",
      "metadata": {
        "id": "7r6gRJh6SQi1"
      },
      "source": [
        "for thing in [1,2,3,4]:\n",
        "    if thing == 1:\n",
        "        print(\"thing is 1\")\n",
        "    elif thing == 2:\n",
        "        print(\"thing is 2\")\n",
        "    elif thing == 3:\n",
        "        print(\"thing is 3\")\n",
        "    else:\n",
        "        print(\"thing is not 1, 2 or 3\")"
      ],
      "execution_count": null,
      "outputs": []
    },
    {
      "cell_type": "markdown",
      "metadata": {
        "id": "RQ86QI4eYH1i"
      },
      "source": [
        "## Topic 4-iterator\n",
        "https://docs.python.org/3/library/itertools.html\n",
        "* iterator (iterator) is an object that represents a data flow.\n",
        "* Repeatedly calling the iterator's __next__() method.\n",
        "* When there is no more data, a StopIteration exception will be raised.\n",
        "* The iterator must have an __iter__() method, which returns the iterator object itself."
      ]
    },
    {
      "cell_type": "markdown",
      "metadata": {
        "id": "jMm7Rh7N0xYq"
      },
      "source": [
        "### Step 12: iterator for-loop\n"
      ]
    },
    {
      "cell_type": "code",
      "metadata": {
        "id": "m-I9xTiH2BOv"
      },
      "source": [
        "for n in [1,2,3,4]:\n",
        "  print(n**2, end=\" \")"
      ],
      "execution_count": null,
      "outputs": []
    },
    {
      "cell_type": "code",
      "metadata": {
        "id": "VImUvq1v2LZn"
      },
      "source": [
        "a = iter([1,2,3,4])\n",
        "while True:\n",
        "  try:\n",
        "    n = next(a)\n",
        "    print(n**2, end=\" \")\n",
        "  except StopIteration:\n",
        "    break"
      ],
      "execution_count": null,
      "outputs": []
    },
    {
      "cell_type": "markdown",
      "metadata": {
        "id": "JZy0cMb1YnPR"
      },
      "source": [
        "## Topic 5-Comprehension"
      ]
    },
    {
      "cell_type": "markdown",
      "metadata": {
        "id": "EfqNWsqv4l3V"
      },
      "source": [
        "### Step 13: list comprehension\n",
        "\n",
        "[expression for item in iterable]"
      ]
    },
    {
      "cell_type": "code",
      "metadata": {
        "id": "XIwL3MY54mQ_"
      },
      "source": [
        "numbers = []\n",
        "for x in range(10):\n",
        "    numbers.append(x ** 2)\n",
        "print(numbers)"
      ],
      "execution_count": null,
      "outputs": []
    },
    {
      "cell_type": "code",
      "metadata": {
        "id": "dgmAfKEm6LL-"
      },
      "source": [
        "numbers = [x ** 2 for x in range(10)]\n",
        "print(numbers)"
      ],
      "execution_count": null,
      "outputs": []
    },
    {
      "cell_type": "markdown",
      "metadata": {
        "id": "1Fnb-xxy6RYy"
      },
      "source": [
        "### Step 14: set comprehension"
      ]
    },
    {
      "cell_type": "code",
      "metadata": {
        "id": "XWz_8PbG6nOb"
      },
      "source": [
        "members = {s**2 for s in [1, 2, 1, 0]}\n",
        "print(members)"
      ],
      "execution_count": null,
      "outputs": []
    },
    {
      "cell_type": "code",
      "metadata": {
        "id": "fiOXykby6-Eb"
      },
      "source": [
        "### Step 15: 字典生成器 (Dictionary Comprehension)"
      ],
      "execution_count": null,
      "outputs": []
    },
    {
      "cell_type": "code",
      "metadata": {
        "id": "I0XtlSFk7QfM"
      },
      "source": [
        "square_dict = dict()\n",
        "for num in range(1, 11):\n",
        "    square_dict[num] = num*num\n",
        "print(square_dict)"
      ],
      "execution_count": null,
      "outputs": []
    },
    {
      "cell_type": "code",
      "metadata": {
        "id": "BmtvBTej7WKA"
      },
      "source": [
        "# dictionary comprehension example\n",
        "square_dict = {num: num*num for num in range(1, 11)}\n",
        "print(square_dict)"
      ],
      "execution_count": null,
      "outputs": []
    },
    {
      "cell_type": "markdown",
      "metadata": {
        "id": "ODMU0EZmcDpg"
      },
      "source": [
        "## Topic 6-Source Code Quality Control\n",
        "* __assert__: Install assertion checks for debugging in the program.\n",
        "* __doctest__: The module provides a tool that scans the module and performs tests based on the document strings embedded in the program.\n",
        "* __unittest__: Write a more complete test set in another file"
      ]
    },
    {
      "cell_type": "markdown",
      "metadata": {
        "id": "M9zF_LJNjvk1"
      },
      "source": [
        "### Step 15:assert\n",
        "assert test, 'some message' # test 結果為 True 或 False"
      ]
    },
    {
      "cell_type": "code",
      "metadata": {
        "id": "xBu29cXnj2Fg"
      },
      "source": [
        "def divide(a, b):\n",
        "    assert b != 0, \"Divisor cannot be zero\"\n",
        "    return a / b\n"
      ],
      "execution_count": null,
      "outputs": []
    },
    {
      "cell_type": "code",
      "metadata": {
        "id": "EzlDC_9FkL0p"
      },
      "source": [
        "r = -1\n",
        "try:\n",
        "    r = divide(1, 0)\n",
        "except:\n",
        "    print\n",
        "    r = 0\n",
        "\n",
        "print(r)"
      ],
      "execution_count": null,
      "outputs": []
    },
    {
      "cell_type": "code",
      "metadata": {
        "id": "2-17mNBulT7y"
      },
      "source": [
        "import sys\n",
        "import traceback\n",
        "r = -1\n",
        "try:\n",
        "    r = divide(1, 0)\n",
        "except AssertionError:\n",
        "    tb = sys.exc_info()[2]\n",
        "    traceback.print_tb(tb) # Fixed format\n",
        "    tb_info = traceback.extract_tb(tb)\n",
        "    filename, line, func, text = tb_info[-1]\n",
        "    print(f'An error occurred on line {line} in statement {text}')\n",
        "    r = 0\n",
        "\n",
        "print(r)"
      ],
      "execution_count": null,
      "outputs": []
    },
    {
      "cell_type": "markdown",
      "metadata": {
        "id": "HYx1oU4Pcq1A"
      },
      "source": [
        "### Step 16:doctest\n"
      ]
    },
    {
      "cell_type": "code",
      "metadata": {
        "id": "Ah0ep7zwnE5e"
      },
      "source": [
        "\"\"\"\n",
        "docstrings可以放的位置1\n",
        "\n",
        ">>> sum(1, 3)\n",
        "4\n",
        "\"\"\"\n",
        "def sum(a, b):\n",
        "    \"\"\"\n",
        "    docstrings可以放的位置2\n",
        "\n",
        "    >>> sum(3, 5)\n",
        "    8\n",
        "    \"\"\"\n",
        "    return a + b\n",
        "\n",
        "if __name__ == \"__main__\":\n",
        "    import doctest\n",
        "    doctest.testmod()"
      ],
      "execution_count": null,
      "outputs": []
    },
    {
      "cell_type": "code",
      "metadata": {
        "id": "vH3a-TR1c6o3"
      },
      "source": [
        "\"\"\"\n",
        "This is the \"example\" module.\n",
        "\n",
        "The example module supplies one function, factorial().  For example,\n",
        "\n",
        ">>> factorial(5)\n",
        "120\n",
        "\"\"\"\n",
        "\n",
        "def factorial(n):\n",
        "    \"\"\"Return the factorial of n, an exact integer >= 0.\n",
        "\n",
        "    >>> [factorial(n) for n in range(6)]\n",
        "    [1, 1, 2, 6, 24, 120]\n",
        "    >>> factorial(30)\n",
        "    265252859812191058636308480000000\n",
        "    >>> factorial(-1)\n",
        "    Traceback (most recent call last):\n",
        "        ...\n",
        "    ValueError: n must be >= 0\n",
        "\n",
        "    Factorials of floats are OK, but the float must be an exact integer:\n",
        "    >>> factorial(30.1)\n",
        "    Traceback (most recent call last):\n",
        "        ...\n",
        "    ValueError: n must be exact integer\n",
        "    >>> factorial(30.0)\n",
        "    265252859812191058636308480000000\n",
        "\n",
        "    It must also not be ridiculously large:\n",
        "    >>> factorial(1e100)\n",
        "    Traceback (most recent call last):\n",
        "        ...\n",
        "    OverflowError: n too large\n",
        "    \"\"\"\n",
        "\n",
        "    import math\n",
        "    if not n >= 0:\n",
        "        raise ValueError(\"n must be >= 0\")\n",
        "    if math.floor(n) != n:\n",
        "        raise ValueError(\"n must be exact integer\")\n",
        "    if n+1 == n:  # catch a value like 1e300\n",
        "        raise OverflowError(\"n too large\")\n",
        "    result = 1\n",
        "    factor = 2\n",
        "    while factor <= n:\n",
        "        result *= factor\n",
        "        factor += 1\n",
        "    return result\n",
        "\n",
        "if __name__ == \"__main__\":\n",
        "    import doctest\n",
        "    doctest.testmod()"
      ],
      "execution_count": null,
      "outputs": []
    },
    {
      "cell_type": "markdown",
      "metadata": {
        "id": "1uYasycXdD8V"
      },
      "source": [
        "### Step 17:unittest\n",
        "\n",
        "\n",
        "unittest 模組主要包括四個部份：\n",
        "* Test case (Test case) is the smallest unit of testing.\n",
        "* Test fixture (Test fixture) prepares resources necessary before executing one or more tests, and related clearing resource actions.\n",
        "* Test suite (Test suite) is a set of test cases, test suites, or a combination of both.\n",
        "* Test runner is a component responsible for executing tests and providing test results."
      ]
    },
    {
      "cell_type": "code",
      "metadata": {
        "id": "qdPWDWR8c6rD"
      },
      "source": [
        "#這是一段用來測試 3 個字串方法：\n",
        "import unittest\n",
        "\n",
        "class TestStringMethods(unittest.TestCase):\n",
        "\n",
        "    def test_upper(self):\n",
        "        self.assertEqual('foo'.upper(), 'FOO')\n",
        "\n",
        "    def test_isupper(self):\n",
        "        self.assertTrue('FOO'.isupper())\n",
        "        self.assertFalse('Foo'.isupper())\n",
        "\n",
        "    def test_split(self):\n",
        "        s = 'hello world'\n",
        "        self.assertEqual(s.split(), ['hello', 'world'])\n",
        "        # check that s.split fails when the separator is not a string\n",
        "        with self.assertRaises(TypeError):\n",
        "            s.split(2)\n",
        "\n",
        "if __name__ == '__main__':\n",
        "    unittest.main()"
      ],
      "execution_count": null,
      "outputs": []
    }
  ]
}