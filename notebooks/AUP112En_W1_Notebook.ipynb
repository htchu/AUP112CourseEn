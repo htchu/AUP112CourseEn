{
  "cells": [
    {
      "attachments": {},
      "cell_type": "markdown",
      "metadata": {
        "id": "EUjJ7ImLnPVr"
      },
      "source": [
        "![image](https://www.python.org/static/img/python-logo.png)\n",
        "# AUP112-1-Fundamentals of Programming)\n",
        "[![Open In Colab](https://colab.research.google.com/assets/colab-badge.svg)](https://colab.research.google.com/github/googlecolab/colabtools/blob/master/notebooks/colab-github-demo.ipynb)\n"
      ]
    },
    {
      "attachments": {},
      "cell_type": "markdown",
      "metadata": {
        "id": "Zk0MAMNlo_gx"
      },
      "source": [
        "#Week1 Python programming language and IPO-model\n",
        "\n",
        "Python is a scripting programming language, which means that instructions can be executed as long as they are written on a single line. And Google Colab provides the easiest way to write and execute Python programming language. Each of the following code cells can be executed independently. For larger programs, the program can be executed across blocks.\n",
        "\n",
        "Python is an easy-to-learn, powerful programming language. In this course, we will introduce the basic syntax of Python (variables, operations, process control, and data structures), etc., so that students can use it as the basis for courses such as advanced data science or deep learning in the future.\n",
        "\n",
        "Completing the first program is very simple. In all programming languages, the first program is called the Hello program. Python's Hello program is super simple, which is the following line:\n",
        "```\n",
        "print('Hello World')\n",
        "```\n",
        "\n"
      ]
    },
    {
      "cell_type": "code",
      "execution_count": null,
      "metadata": {
        "id": "X-HFB-nRrGDe"
      },
      "outputs": [],
      "source": [
        "#Paste the Hello World program under this line, then press the execute key on the left or (Ctrl+Enter)\n"
      ]
    },
    {
      "attachments": {},
      "cell_type": "markdown",
      "metadata": {
        "id": "g-ZT0jKHrSts"
      },
      "source": [
        "In the above program, we use a function print(), print will combine its input parameters, and then output a line of text.\n",
        "\n",
        "Below we have various variations of the Hello World program. You can observe the difference."
      ]
    },
    {
      "attachments": {},
      "cell_type": "markdown",
      "metadata": {
        "id": "kLe1GoiTtrgI"
      },
      "source": [
        "## Topic 1-Hello World"
      ]
    },
    {
      "attachments": {},
      "cell_type": "markdown",
      "metadata": {
        "id": "cHiXWmApnZ_W"
      },
      "source": [
        "### Step 1: Various ways of printing Hello World\n",
        "\n",
        "Below we have various variations of the Hello World program. You can observe the difference.\n"
      ]
    },
    {
      "cell_type": "code",
      "execution_count": null,
      "metadata": {
        "id": "8JL0O3Dw0hVK"
      },
      "outputs": [],
      "source": [
        "print('Hello World!')"
      ]
    },
    {
      "cell_type": "code",
      "execution_count": null,
      "metadata": {
        "id": "eF-jycTxnY9-"
      },
      "outputs": [],
      "source": [
        "print('Hello '+'World!')"
      ]
    },
    {
      "cell_type": "code",
      "execution_count": null,
      "metadata": {
        "id": "7AzrK1j_npYa"
      },
      "outputs": [],
      "source": [
        "print(\"Hello World!\")"
      ]
    },
    {
      "cell_type": "code",
      "execution_count": null,
      "metadata": {
        "id": "EbZnPm_GnzgW"
      },
      "outputs": [],
      "source": [
        "print(\"Hello\");  print(\"World!\")"
      ]
    },
    {
      "cell_type": "code",
      "execution_count": null,
      "metadata": {
        "id": "yF49kRbdOhTU"
      },
      "outputs": [],
      "source": []
    },
    {
      "cell_type": "code",
      "execution_count": null,
      "metadata": {
        "id": "7honmgYyqx0w"
      },
      "outputs": [],
      "source": [
        "print(\"Hello World!\") #Comment will not be executed"
      ]
    },
    {
      "attachments": {},
      "cell_type": "markdown",
      "metadata": {
        "id": "G7fyYaJm8bzg"
      },
      "source": [
        "*  Python string can be enclosed in single or double quotes"
      ]
    },
    {
      "cell_type": "code",
      "execution_count": null,
      "metadata": {
        "id": "j410MQ2VSA5g"
      },
      "outputs": [],
      "source": []
    },
    {
      "attachments": {},
      "cell_type": "markdown",
      "metadata": {
        "id": "RATZKmu_n4_F"
      },
      "source": [
        "### Step 2: Run \"Hello World\" by a command line \n",
        "* Use Spyder or Visual Studio Code to create a file called 'hello.py'\n",
        "* Write print(\"Hello World!\") in hello.py\n"
      ]
    },
    {
      "attachments": {},
      "cell_type": "markdown",
      "metadata": {
        "id": "WBqSanjvXnxs"
      },
      "source": [
        "<img src=\"https://i.ibb.co/qJFrtVB/Spyder2.jpg\" alt=\"Spyder2\" border=\"0\" width=\"500\">"
      ]
    },
    {
      "attachments": {},
      "cell_type": "markdown",
      "metadata": {
        "id": "15oommtNYiYg"
      },
      "source": [
        "* Open Anaconda Prompt and enter: ```python hello.py```\n",
        "\n",
        "<img src=\"https://i.ibb.co/3swzzfg/cmd1.jpg\" alt=\"cmd1\" border=\"0\" />"
      ]
    },
    {
      "attachments": {},
      "cell_type": "markdown",
      "metadata": {
        "id": "MmdyzEarPCjx"
      },
      "source": [
        "## Topic 2(主題2)-IPO model\n",
        "\n",
        "\n",
        "![image](https://i.ibb.co/hmLFfRj/ipo1.png)\n"
      ]
    },
    {
      "attachments": {},
      "cell_type": "markdown",
      "metadata": {
        "id": "VnMo1y-kujl2"
      },
      "source": [
        "### Step 1: Use the input() function to enter the value of the variable\n",
        "Python uses the input() function to read input data.\n",
        "\n",
        "Function syntax: input([prompt]) The parameter prompt is a prompt message, which has nothing to do with the input value.\n",
        "\n",
        "A single call to the input() function will input a string."
      ]
    },
    {
      "cell_type": "code",
      "execution_count": null,
      "metadata": {
        "id": "uJbEBoQR3QTM"
      },
      "outputs": [],
      "source": [
        "name = input('Please input your name：')\n",
        "print('Hello, ', name)\n",
        "print(type(name))   #列印變數的型別"
      ]
    },
    {
      "attachments": {},
      "cell_type": "markdown",
      "metadata": {
        "id": "dLQMkIjNoqVk"
      },
      "source": [
        "### Step 2: Assignment statement\n",
        "* Assignment symbol \"=\"\n",
        "* Left is Variables (variables)\n",
        "* On the right is a value with a date type"
      ]
    },
    {
      "cell_type": "code",
      "execution_count": null,
      "metadata": {
        "id": "xDGDNhPfKZtW"
      },
      "outputs": [],
      "source": [
        "#Numbers\n",
        "counter = 100          # An integer assignment\n",
        "miles = 1000.0       # A floating point\n",
        "name = 'John'       # A string"
      ]
    },
    {
      "attachments": {},
      "cell_type": "markdown",
      "metadata": {
        "id": "SikgZwdSsjnz"
      },
      "source": [
        "### Step 3: Python's two built-in basic functions help() and type()\n",
        "* help() function description\n",
        "* type() type of variable "
      ]
    },
    {
      "cell_type": "code",
      "execution_count": null,
      "metadata": {
        "id": "i-9BPj_t1dkw"
      },
      "outputs": [],
      "source": [
        "help(type)"
      ]
    },
    {
      "cell_type": "code",
      "execution_count": null,
      "metadata": {
        "id": "RAl6qI6huXXF"
      },
      "outputs": [],
      "source": [
        "help(input)"
      ]
    },
    {
      "cell_type": "code",
      "execution_count": null,
      "metadata": {
        "id": "pVXa9Xu-KclT"
      },
      "outputs": [],
      "source": [
        "type(counter)"
      ]
    },
    {
      "cell_type": "code",
      "execution_count": null,
      "metadata": {
        "id": "ArjQALkBKiQz"
      },
      "outputs": [],
      "source": [
        "type(miles)"
      ]
    },
    {
      "cell_type": "code",
      "execution_count": null,
      "metadata": {
        "id": "lhfwl-RyKjlQ"
      },
      "outputs": [],
      "source": [
        "type(name)"
      ]
    },
    {
      "attachments": {},
      "cell_type": "markdown",
      "metadata": {
        "id": "CDPEHTzDrQ0C"
      },
      "source": [
        "### Step 4: Use the print() function to output the value of a variable"
      ]
    },
    {
      "cell_type": "code",
      "execution_count": null,
      "metadata": {
        "id": "ExiSChA40noD"
      },
      "outputs": [],
      "source": [
        "help(print)"
      ]
    },
    {
      "cell_type": "code",
      "execution_count": null,
      "metadata": {
        "id": "XqZnJ5MFrC6y"
      },
      "outputs": [],
      "source": [
        "print(miles) # print the value of the variable\n",
        "print(type(miles)) # print the type of the variable"
      ]
    },
    {
      "cell_type": "code",
      "execution_count": null,
      "metadata": {
        "id": "HueRVbbirFoc"
      },
      "outputs": [],
      "source": [
        "print(name)      # print the value of the variable\n",
        "print(type(name))   # print the type of the variable"
      ]
    },
    {
      "cell_type": "code",
      "execution_count": null,
      "metadata": {
        "id": "OtOojbjRz69y"
      },
      "outputs": [],
      "source": [
        "#Numbers\n",
        "counter = 100          # An integer assignment\n",
        "miles = 1000.0       # A floating point\n",
        "name = 'John'       # A string"
      ]
    },
    {
      "cell_type": "code",
      "execution_count": null,
      "metadata": {
        "id": "Ux246shVopsl"
      },
      "outputs": [],
      "source": [
        "print(counter)      # print the value of the variable\n",
        "print(type(counter))   # print the type of the variable"
      ]
    },
    {
      "cell_type": "code",
      "execution_count": null,
      "metadata": {
        "id": "5N99x6QdsBRI"
      },
      "outputs": [],
      "source": [
        "my = True\n",
        "print(my)         # print the value of the variable\n",
        "print(type(my))  # print the type of the variable"
      ]
    },
    {
      "cell_type": "code",
      "execution_count": null,
      "metadata": {
        "id": "OW_O47c2r0bL"
      },
      "outputs": [],
      "source": [
        "my = False\n",
        "print(my)         # print the value of the variable\n",
        "print(type(my))   # print the type of the variable"
      ]
    },
    {
      "cell_type": "code",
      "execution_count": null,
      "metadata": {
        "id": "CmLcco-2sPcW"
      },
      "outputs": [],
      "source": [
        "my = None\n",
        "print(my)         # print the value of the variable\n",
        "print(type(my))   # print the type of the variable"
      ]
    }
  ],
  "metadata": {
    "colab": {
      "collapsed_sections": [
        "VnMo1y-kujl2",
        "SikgZwdSsjnz",
        "CDPEHTzDrQ0C"
      ],
      "provenance": []
    },
    "kernelspec": {
      "display_name": "Python 3",
      "language": "python",
      "name": "python3"
    },
    "language_info": {
      "codemirror_mode": {
        "name": "ipython",
        "version": 3
      },
      "file_extension": ".py",
      "mimetype": "text/x-python",
      "name": "python",
      "nbconvert_exporter": "python",
      "pygments_lexer": "ipython3",
      "version": "3.7.6"
    }
  },
  "nbformat": 4,
  "nbformat_minor": 0
}
